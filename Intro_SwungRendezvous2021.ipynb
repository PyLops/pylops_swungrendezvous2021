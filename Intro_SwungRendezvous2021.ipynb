{
  "nbformat": 4,
  "nbformat_minor": 0,
  "metadata": {
    "colab": {
      "name": "Intro_SwungRendezvous2021.ipynb",
      "provenance": []
    },
    "kernelspec": {
      "name": "python3",
      "display_name": "Python 3"
    },
    "accelerator": "GPU"
  },
  "cells": [
    {
      "cell_type": "markdown",
      "metadata": {
        "id": "w6SnKfz_BaFG"
      },
      "source": [
        "# Solving inverse problems on GPUs with Pylops+CuPy - Introduction\n",
        "\n",
        "Welcome to the tutorial of this session! In this tutorial we will consider a very basic problem: **1D deconvolution**\n",
        "\n",
        "By the end of the tutorial you will have learned:\n",
        "- the basics of PyLops and how to use built-in operators to solve inverse problems.\n",
        "- how you can easily switch between CPU-based to GPU-based inversion;\n"
      ]
    },
    {
      "cell_type": "markdown",
      "metadata": {
        "id": "hOAhN6WwQytQ"
      },
      "source": [
        "## Create environment with PyLops+CuPy+CuSignal"
      ]
    },
    {
      "cell_type": "code",
      "metadata": {
        "colab": {
          "base_uri": "https://localhost:8080/"
        },
        "id": "Q5tRy66Bm4Py",
        "outputId": "96ccf279-9893-4590-cc36-5b6110585104"
      },
      "source": [
        "!git clone https://github.com/PyLops/pylops_swungrendezvous2021.git"
      ],
      "execution_count": 1,
      "outputs": [
        {
          "output_type": "stream",
          "text": [
            "fatal: destination path 'pylops_swungrendezvous2021' already exists and is not an empty directory.\n"
          ],
          "name": "stdout"
        }
      ]
    },
    {
      "cell_type": "code",
      "metadata": {
        "colab": {
          "base_uri": "https://localhost:8080/"
        },
        "id": "d2g3j9cTBoRq",
        "outputId": "313e4aed-6064-40a1-f96f-46be6d5df5d9"
      },
      "source": [
        "!chmod u+x pylops_swungrendezvous2021/install.sh\n",
        "!pylops_swungrendezvous2021/install.sh"
      ],
      "execution_count": 2,
      "outputs": [
        {
          "output_type": "stream",
          "text": [
            "--2021-01-30 14:07:33--  https://repo.continuum.io/miniconda/Miniconda3-4.5.4-Linux-x86_64.sh\n",
            "Resolving repo.continuum.io (repo.continuum.io)... 104.18.200.79, 104.18.201.79, 2606:4700::6812:c84f, ...\n",
            "Connecting to repo.continuum.io (repo.continuum.io)|104.18.200.79|:443... connected.\n",
            "HTTP request sent, awaiting response... 301 Moved Permanently\n",
            "Location: https://repo.anaconda.com/miniconda/Miniconda3-4.5.4-Linux-x86_64.sh [following]\n",
            "--2021-01-30 14:07:33--  https://repo.anaconda.com/miniconda/Miniconda3-4.5.4-Linux-x86_64.sh\n",
            "Resolving repo.anaconda.com (repo.anaconda.com)... 104.16.131.3, 104.16.130.3, 2606:4700::6810:8303, ...\n",
            "Connecting to repo.anaconda.com (repo.anaconda.com)|104.16.131.3|:443... connected.\n",
            "HTTP request sent, awaiting response... 200 OK\n",
            "Length: 58468498 (56M) [application/x-sh]\n",
            "Saving to: ‘Miniconda3-4.5.4-Linux-x86_64.sh.1’\n",
            "\n",
            "Miniconda3-4.5.4-Li 100%[===================>]  55.76M   238MB/s    in 0.2s    \n",
            "\n",
            "2021-01-30 14:07:34 (238 MB/s) - ‘Miniconda3-4.5.4-Linux-x86_64.sh.1’ saved [58468498/58468498]\n",
            "\n",
            "PREFIX=/usr/local\n",
            "installing: python-3.6.5-hc3d631a_2 ...\n",
            "Python 3.6.5 :: Anaconda, Inc.\n",
            "installing: ca-certificates-2018.03.07-0 ...\n",
            "installing: conda-env-2.6.0-h36134e3_1 ...\n",
            "installing: libgcc-ng-7.2.0-hdf63c60_3 ...\n",
            "installing: libstdcxx-ng-7.2.0-hdf63c60_3 ...\n",
            "installing: libffi-3.2.1-hd88cf55_4 ...\n",
            "installing: ncurses-6.1-hf484d3e_0 ...\n",
            "installing: openssl-1.0.2o-h20670df_0 ...\n",
            "installing: tk-8.6.7-hc745277_3 ...\n",
            "installing: xz-5.2.4-h14c3975_4 ...\n",
            "installing: yaml-0.1.7-had09818_2 ...\n",
            "installing: zlib-1.2.11-ha838bed_2 ...\n",
            "installing: libedit-3.1.20170329-h6b74fdf_2 ...\n",
            "installing: readline-7.0-ha6073c6_4 ...\n",
            "installing: sqlite-3.23.1-he433501_0 ...\n",
            "installing: asn1crypto-0.24.0-py36_0 ...\n",
            "installing: certifi-2018.4.16-py36_0 ...\n",
            "installing: chardet-3.0.4-py36h0f667ec_1 ...\n",
            "installing: idna-2.6-py36h82fb2a8_1 ...\n",
            "installing: pycosat-0.6.3-py36h0a5515d_0 ...\n",
            "installing: pycparser-2.18-py36hf9f622e_1 ...\n",
            "installing: pysocks-1.6.8-py36_0 ...\n",
            "installing: ruamel_yaml-0.15.37-py36h14c3975_2 ...\n",
            "installing: six-1.11.0-py36h372c433_1 ...\n",
            "installing: cffi-1.11.5-py36h9745a5d_0 ...\n",
            "installing: setuptools-39.2.0-py36_0 ...\n",
            "installing: cryptography-2.2.2-py36h14c3975_0 ...\n",
            "installing: wheel-0.31.1-py36_0 ...\n",
            "installing: pip-10.0.1-py36_0 ...\n",
            "installing: pyopenssl-18.0.0-py36_0 ...\n",
            "installing: urllib3-1.22-py36hbe7ace6_0 ...\n",
            "installing: requests-2.18.4-py36he2e5f8d_1 ...\n",
            "installing: conda-4.5.4-py36_0 ...\n",
            "unlinking: ca-certificates-2021.1.19-h06a4308_0\n",
            "unlinking: certifi-2020.12.5-py36h06a4308_0\n",
            "unlinking: cffi-1.14.4-py36h261ae71_0\n",
            "unlinking: chardet-4.0.0-py36h06a4308_1003\n",
            "unlinking: conda-4.9.2-py36h06a4308_0\n",
            "unlinking: cryptography-3.3.1-py36h3c74f83_0\n",
            "unlinking: idna-2.10-pyhd3eb1b0_0\n",
            "unlinking: libedit-3.1.20191231-h14c3975_1\n",
            "unlinking: libffi-3.3-he6710b0_2\n",
            "unlinking: libgcc-ng-9.1.0-hdf63c60_0\n",
            "unlinking: libstdcxx-ng-9.1.0-hdf63c60_0\n",
            "unlinking: ncurses-6.2-he6710b0_1\n",
            "unlinking: openssl-1.1.1i-h27cfd23_0\n",
            "unlinking: pip-20.3.3-py36h06a4308_0\n",
            "unlinking: pycosat-0.6.3-py36h27cfd23_0\n",
            "unlinking: pycparser-2.20-py_2\n",
            "unlinking: pyopenssl-20.0.1-pyhd3eb1b0_1\n",
            "unlinking: pysocks-1.7.1-py36h06a4308_0\n",
            "unlinking: python-3.6.12-hcff3b4d_2\n",
            "unlinking: readline-8.1-h27cfd23_0\n",
            "unlinking: requests-2.25.1-pyhd3eb1b0_0\n",
            "unlinking: ruamel_yaml-0.15.87-py36h7b6447c_1\n",
            "unlinking: setuptools-52.0.0-py36h06a4308_0\n",
            "unlinking: six-1.15.0-py36h06a4308_0\n",
            "unlinking: sqlite-3.33.0-h62c20be_0\n",
            "unlinking: tk-8.6.10-hbc83047_0\n",
            "unlinking: urllib3-1.26.3-pyhd3eb1b0_0\n",
            "unlinking: wheel-0.36.2-pyhd3eb1b0_0\n",
            "unlinking: xz-5.2.5-h7b6447c_0\n",
            "unlinking: yaml-0.2.5-h7b6447c_0\n",
            "unlinking: zlib-1.2.11-h7b6447c_3\n",
            "installation finished.\n",
            "Solving environment: - \b\b\\ \b\b| \b\b/ \b\b- \b\b\\ \b\b| \b\b/ \b\b- \b\b\\ \b\b| \b\b/ \b\b- \b\b\\ \b\b| \b\b/ \b\b- \b\b\\ \b\b| \b\b/ \b\b- \b\b\\ \b\b| \b\b/ \b\b- \b\b\\ \b\b| \b\b/ \b\b- \b\b\\ \b\b| \b\b/ \b\b- \b\b\\ \b\b| \b\b/ \b\b- \b\b\\ \b\b| \b\b/ \b\b- \b\b\\ \b\b| \b\b/ \b\b- \b\b\\ \b\b| \b\b/ \b\b- \b\b\\ \b\b| \b\b/ \b\b- \b\b\\ \b\b| \b\b/ \b\b- \b\b\\ \b\b| \b\b/ \b\b- \b\b\\ \b\b| \b\b/ \b\b- \b\b\\ \b\b| \b\b/ \b\b- \b\b\\ \b\b| \b\b/ \b\b- \b\b\\ \b\b| \b\b/ \b\b- \b\b\\ \b\b| \b\b/ \b\b- \b\b\\ \b\b| \b\b/ \b\b- \b\b\\ \b\b| \b\b/ \b\b- \b\b\\ \b\b| \b\b/ \b\b- \b\b\\ \b\b| \b\b/ \b\b- \b\b\\ \b\b| \b\b/ \b\b- \b\b\\ \b\b| \b\b/ \b\b- \b\b\\ \b\b| \b\b/ \b\b- \b\b\\ \b\b| \b\b/ \b\b- \b\bdone\n",
            "\n",
            "## Package Plan ##\n",
            "\n",
            "  environment location: /usr/local\n",
            "\n",
            "  added / updated specs: \n",
            "    - conda\n",
            "    - python=3.6\n",
            "\n",
            "\n",
            "The following packages will be UPDATED:\n",
            "\n",
            "    ca-certificates: 2018.03.07-0            --> 2021.1.19-h06a4308_0    \n",
            "    certifi:         2018.4.16-py36_0        --> 2020.12.5-py36h06a4308_0\n",
            "    cffi:            1.11.5-py36h9745a5d_0   --> 1.14.4-py36h261ae71_0   \n",
            "    conda:           4.5.4-py36_0            --> 4.9.2-py36h06a4308_0    \n",
            "    cryptography:    2.2.2-py36h14c3975_0    --> 3.3.1-py36h3c74f83_0    \n",
            "    libedit:         3.1.20170329-h6b74fdf_2 --> 3.1.20191231-h14c3975_1 \n",
            "    libffi:          3.2.1-hd88cf55_4        --> 3.3-he6710b0_2          \n",
            "    libgcc-ng:       7.2.0-hdf63c60_3        --> 9.1.0-hdf63c60_0        \n",
            "    libstdcxx-ng:    7.2.0-hdf63c60_3        --> 9.1.0-hdf63c60_0        \n",
            "    ncurses:         6.1-hf484d3e_0          --> 6.2-he6710b0_1          \n",
            "    openssl:         1.0.2o-h20670df_0       --> 1.1.1i-h27cfd23_0       \n",
            "    python:          3.6.5-hc3d631a_2        --> 3.6.12-hcff3b4d_2       \n",
            "    readline:        7.0-ha6073c6_4          --> 8.1-h27cfd23_0          \n",
            "    sqlite:          3.23.1-he433501_0       --> 3.33.0-h62c20be_0       \n",
            "    tk:              8.6.7-hc745277_3        --> 8.6.10-hbc83047_0       \n",
            "    xz:              5.2.4-h14c3975_4        --> 5.2.5-h7b6447c_0        \n",
            "\n",
            "Preparing transaction: | \b\b/ \b\b- \b\bdone\n",
            "Verifying transaction: | \b\b/ \b\b- \b\b\\ \b\b| \b\b/ \b\b- \b\b\\ \b\b| \b\b/ \b\b- \b\b\\ \b\b| \b\b/ \b\bdone\n",
            "Executing transaction: \\ \b\b| \b\b/ \b\b- \b\b\\ \b\b| \b\b/ \b\bdone\n",
            "Collecting package metadata (current_repodata.json): - \b\b\\ \b\b| \b\b/ \b\b- \b\b\\ \b\bdone\n",
            "Solving environment: / \b\b- \b\b\\ \b\b| \b\bdone\n",
            "\n",
            "## Package Plan ##\n",
            "\n",
            "  environment location: /usr/local\n",
            "\n",
            "\n",
            "The following packages will be downloaded:\n",
            "\n",
            "    package                    |            build\n",
            "    ---------------------------|-----------------\n",
            "    chardet-4.0.0              |py36h06a4308_1003         199 KB\n",
            "    pip-20.3.3                 |   py36h06a4308_0         1.8 MB\n",
            "    pycosat-0.6.3              |   py36h27cfd23_0          82 KB\n",
            "    pycparser-2.20             |             py_2          94 KB\n",
            "    pyopenssl-20.0.1           |     pyhd3eb1b0_1          49 KB\n",
            "    pysocks-1.7.1              |   py36h06a4308_0          31 KB\n",
            "    requests-2.25.1            |     pyhd3eb1b0_0          52 KB\n",
            "    ruamel_yaml-0.15.87        |   py36h7b6447c_1         244 KB\n",
            "    setuptools-52.0.0          |   py36h06a4308_0         724 KB\n",
            "    urllib3-1.26.3             |     pyhd3eb1b0_0         105 KB\n",
            "    wheel-0.36.2               |     pyhd3eb1b0_0          33 KB\n",
            "    yaml-0.2.5                 |       h7b6447c_0          75 KB\n",
            "    zlib-1.2.11                |       h7b6447c_3         103 KB\n",
            "    ------------------------------------------------------------\n",
            "                                           Total:         3.5 MB\n",
            "\n",
            "The following packages will be REMOVED:\n",
            "\n",
            "  asn1crypto-0.24.0-py36_0\n",
            "  conda-env-2.6.0-h36134e3_1\n",
            "\n",
            "The following packages will be UPDATED:\n",
            "\n",
            "  chardet                              3.0.4-py36h0f667ec_1 --> 4.0.0-py36h06a4308_1003\n",
            "  idna               pkgs/main/linux-64::idna-2.6-py36h82f~ --> pkgs/main/noarch::idna-2.10-pyhd3eb1b0_0\n",
            "  pip                                         10.0.1-py36_0 --> 20.3.3-py36h06a4308_0\n",
            "  pycparser          pkgs/main/linux-64::pycparser-2.18-py~ --> pkgs/main/noarch::pycparser-2.20-py_2\n",
            "  pyopenssl          pkgs/main/linux-64::pyopenssl-18.0.0-~ --> pkgs/main/noarch::pyopenssl-20.0.1-pyhd3eb1b0_1\n",
            "  pysocks                                      1.6.8-py36_0 --> 1.7.1-py36h06a4308_0\n",
            "  requests           pkgs/main/linux-64::requests-2.18.4-p~ --> pkgs/main/noarch::requests-2.25.1-pyhd3eb1b0_0\n",
            "  ruamel_yaml                        0.15.37-py36h14c3975_2 --> 0.15.87-py36h7b6447c_1\n",
            "  setuptools                                  39.2.0-py36_0 --> 52.0.0-py36h06a4308_0\n",
            "  six                                 1.11.0-py36h372c433_1 --> 1.15.0-py36h06a4308_0\n",
            "  urllib3            pkgs/main/linux-64::urllib3-1.22-py36~ --> pkgs/main/noarch::urllib3-1.26.3-pyhd3eb1b0_0\n",
            "  wheel              pkgs/main/linux-64::wheel-0.31.1-py36~ --> pkgs/main/noarch::wheel-0.36.2-pyhd3eb1b0_0\n",
            "  yaml                                     0.1.7-had09818_2 --> 0.2.5-h7b6447c_0\n",
            "  zlib                                    1.2.11-ha838bed_2 --> 1.2.11-h7b6447c_3\n",
            "\n",
            "The following packages will be DOWNGRADED:\n",
            "\n",
            "  pycosat                              0.6.3-py36h0a5515d_0 --> 0.6.3-py36h27cfd23_0\n",
            "\n",
            "\n",
            "\n",
            "Downloading and Extracting Packages\n",
            "pycparser-2.20       | 94 KB     | : 100% 1.0/1 [00:00<00:00,  9.23it/s]\n",
            "pysocks-1.7.1        | 31 KB     | : 100% 1.0/1 [00:00<00:00, 21.74it/s]\n",
            "wheel-0.36.2         | 33 KB     | : 100% 1.0/1 [00:00<00:00, 21.81it/s]\n",
            "setuptools-52.0.0    | 724 KB    | : 100% 1.0/1 [00:00<00:00, 10.19it/s]\n",
            "pip-20.3.3           | 1.8 MB    | : 100% 1.0/1 [00:00<00:00,  6.16it/s]\n",
            "chardet-4.0.0        | 199 KB    | : 100% 1.0/1 [00:00<00:00, 18.53it/s]\n",
            "urllib3-1.26.3       | 105 KB    | : 100% 1.0/1 [00:00<00:00, 19.89it/s]\n",
            "pycosat-0.6.3        | 82 KB     | : 100% 1.0/1 [00:00<00:00, 21.38it/s]\n",
            "pyopenssl-20.0.1     | 49 KB     | : 100% 1.0/1 [00:00<00:00, 25.32it/s]\n",
            "requests-2.25.1      | 52 KB     | : 100% 1.0/1 [00:00<00:00, 21.26it/s]\n",
            "zlib-1.2.11          | 103 KB    | : 100% 1.0/1 [00:00<00:00, 22.73it/s]\n",
            "ruamel_yaml-0.15.87  | 244 KB    | : 100% 1.0/1 [00:00<00:00, 17.55it/s]\n",
            "yaml-0.2.5           | 75 KB     | : 100% 1.0/1 [00:00<00:00, 17.32it/s]\n",
            "Preparing transaction: - \b\bdone\n",
            "Verifying transaction: | \b\b/ \b\bdone\n",
            "Executing transaction: \\ \b\b| \b\b/ \b\b- \b\b\\ \b\b| \b\b/ \b\b- \b\bdone\n",
            "Collecting package metadata (current_repodata.json): - \b\b\\ \b\b| \b\b/ \b\b- \b\b\\ \b\b| \b\b/ \b\b- \b\b\\ \b\b| \b\b/ \b\b- \b\b\\ \b\b| \b\b/ \b\b- \b\b\\ \b\b| \b\bdone\n",
            "Solving environment: - \b\b\\ \b\b| \b\b/ \b\b- \b\b\\ \b\b| \b\b/ \b\b- \b\b\\ \b\b| \b\b/ \b\b- \b\b\\ \b\b| \b\b/ \b\b- \b\b\\ \b\b| \b\b/ \b\b- \b\b\\ \b\b| \b\b/ \b\b- \b\b\\ \b\bdone\n",
            "\n",
            "## Package Plan ##\n",
            "\n",
            "  environment location: /usr/local\n",
            "\n",
            "  added / updated specs:\n",
            "    - cudatoolkit=10.1\n",
            "    - cusignal\n",
            "\n",
            "\n",
            "The following packages will be downloaded:\n",
            "\n",
            "    package                    |            build\n",
            "    ---------------------------|-----------------\n",
            "    cudatoolkit-10.1.243       |       h6bb024c_0       347.4 MB\n",
            "    cusignal-0.17.0            |  py38_ge853242_0         888 KB  rapidsai\n",
            "    icu-64.2                   |       he1b5a44_1        12.6 MB  conda-forge\n",
            "    libopenblas-0.3.12         |pthreads_hb3c22a3_1         8.2 MB  conda-forge\n",
            "    python_abi-3.6             |          1_cp36m           4 KB  conda-forge\n",
            "    scipy-1.5.3                |   py36h976291a_0        18.6 MB  conda-forge\n",
            "    ------------------------------------------------------------\n",
            "                                           Total:       387.7 MB\n",
            "\n",
            "The following NEW packages will be INSTALLED:\n",
            "\n",
            "  boost              conda-forge/linux-64::boost-1.72.0-py36h79e6602_1\n",
            "  boost-cpp          conda-forge/linux-64::boost-cpp-1.72.0-h8e57a91_0\n",
            "  bzip2              conda-forge/linux-64::bzip2-1.0.8-h516909a_3\n",
            "  cudatoolkit        pkgs/main/linux-64::cudatoolkit-10.1.243-h6bb024c_0\n",
            "  cudnn              conda-forge/linux-64::cudnn-7.6.5.32-hc0a50b0_1\n",
            "  cupy               conda-forge/linux-64::cupy-8.3.0-py36h6953d74_2\n",
            "  cusignal           rapidsai/noarch::cusignal-0.17.0-py38_ge853242_0\n",
            "  fastrlock          conda-forge/linux-64::fastrlock-0.5-py36h831f99a_1\n",
            "  icu                conda-forge/linux-64::icu-64.2-he1b5a44_1\n",
            "  libblas            conda-forge/linux-64::libblas-3.9.0-7_openblas\n",
            "  libcblas           conda-forge/linux-64::libcblas-3.9.0-7_openblas\n",
            "  libgfortran-ng     conda-forge/linux-64::libgfortran-ng-7.5.0-h14aa051_18\n",
            "  libgfortran4       conda-forge/linux-64::libgfortran4-7.5.0-h14aa051_18\n",
            "  liblapack          conda-forge/linux-64::liblapack-3.9.0-7_openblas\n",
            "  libllvm10          conda-forge/linux-64::libllvm10-10.0.1-he513fc3_3\n",
            "  libopenblas        conda-forge/linux-64::libopenblas-0.3.12-pthreads_hb3c22a3_1\n",
            "  llvmlite           pkgs/main/linux-64::llvmlite-0.34.0-py36h269e1b5_4\n",
            "  nccl               conda-forge/linux-64::nccl-2.8.3.1-h8b44402_0\n",
            "  numba              conda-forge/linux-64::numba-0.51.2-py36h7c3b610_0\n",
            "  numpy              conda-forge/linux-64::numpy-1.18.1-py36h7314795_1\n",
            "  python_abi         conda-forge/linux-64::python_abi-3.6-1_cp36m\n",
            "  scipy              conda-forge/linux-64::scipy-1.5.3-py36h976291a_0\n",
            "\n",
            "The following packages will be UPDATED:\n",
            "\n",
            "  certifi            pkgs/main::certifi-2020.12.5-py36h06a~ --> conda-forge::certifi-2020.12.5-py36h5fab9bb_1\n",
            "\n",
            "The following packages will be SUPERSEDED by a higher-priority channel:\n",
            "\n",
            "  ca-certificates    pkgs/main::ca-certificates-2021.1.19-~ --> conda-forge::ca-certificates-2020.12.5-ha878542_0\n",
            "  conda               pkgs/main::conda-4.9.2-py36h06a4308_0 --> conda-forge::conda-4.9.2-py36h5fab9bb_0\n",
            "\n",
            "\n",
            "\n",
            "Downloading and Extracting Packages\n",
            "libopenblas-0.3.12   | 8.2 MB    | : 100% 1.0/1 [00:01<00:00,  1.39s/it]\n",
            "python_abi-3.6       | 4 KB      | : 100% 1.0/1 [00:00<00:00, 31.52it/s]\n",
            "scipy-1.5.3          | 18.6 MB   | : 100% 1.0/1 [00:02<00:00,  2.83s/it]\n",
            "cudatoolkit-10.1.243 | 347.4 MB  | : 100% 1.0/1 [00:14<00:00, 14.51s/it]               \n",
            "cusignal-0.17.0      | 888 KB    | : 100% 1.0/1 [00:01<00:00,  1.29s/it]               \n",
            "icu-64.2             | 12.6 MB   | : 100% 1.0/1 [00:01<00:00,  1.74s/it]               \n",
            "Preparing transaction: / \b\b- \b\b\\ \b\b| \b\b/ \b\b- \b\b\\ \b\b| \b\b/ \b\b- \b\b\\ \b\b| \b\b/ \b\b- \b\bdone\n",
            "Verifying transaction: | \b\b/ \b\b- \b\b\\ \b\b| \b\b/ \b\b- \b\b\\ \b\b| \b\b/ \b\b- \b\b\\ \b\b| \b\b/ \b\b- \b\b\\ \b\b| \b\b/ \b\bdone\n",
            "Executing transaction: \\ \b\b| \b\b/ \b\b- \b\b\\ \b\b| \b\b/ \b\b- \b\b\\ \b\b| \b\b/ \b\b- \b\b\\ \b\b| By downloading and using the cuDNN conda packages, you accept the terms and conditions of the NVIDIA cuDNN EULA -\n",
            "  https://docs.nvidia.com/deeplearning/cudnn/sla/index.html\n",
            "\n",
            "\b\b/ \b\b- \b\b\\ \b\b| \b\b/ \b\b- \b\b\\ \b\b| \b\b/ \b\b- \b\b\\ \b\bdone\n",
            "Collecting cupy-cuda101==8.1.0\n",
            "  Downloading cupy_cuda101-8.1.0-cp36-cp36m-manylinux1_x86_64.whl (115.5 MB)\n",
            "\u001b[K     |████████████████████████████████| 115.5 MB 34 kB/s \n",
            "\u001b[?25hRequirement already satisfied: numpy>=1.15 in /usr/local/lib/python3.6/site-packages (from cupy-cuda101==8.1.0) (1.18.1)\n",
            "Requirement already satisfied: fastrlock>=0.3 in /usr/local/lib/python3.6/site-packages (from cupy-cuda101==8.1.0) (0.5)\n",
            "Installing collected packages: cupy-cuda101\n",
            "Successfully installed cupy-cuda101-8.1.0\n",
            "Collecting pyFFTW\n",
            "  Downloading pyFFTW-0.12.0-cp36-cp36m-manylinux1_x86_64.whl (2.6 MB)\n",
            "\u001b[K     |████████████████████████████████| 2.6 MB 8.2 MB/s \n",
            "\u001b[?25hRequirement already satisfied: numpy<2.0,>=1.10 in /usr/local/lib/python3.6/site-packages (from pyFFTW) (1.18.1)\n",
            "Installing collected packages: pyFFTW\n",
            "Successfully installed pyFFTW-0.12.0\n",
            "Collecting package metadata (current_repodata.json): - \b\b\\ \b\b| \b\b/ \b\b- \b\b\\ \b\b| \b\b/ \b\b- \b\b\\ \b\b| \b\b/ \b\b- \b\b\\ \b\b| \b\b/ \b\b- \b\bdone\n",
            "Solving environment: | \b\b/ \b\b- \b\b\\ \b\b| \b\b/ \b\b- \b\b\\ \b\b| \b\b/ \b\b- \b\b\\ \b\b| \b\b/ \b\b- \b\b\\ \b\b| \b\b/ \b\b- \b\b\\ \b\b| \b\b/ \b\b- \b\b\\ \b\b| \b\b/ \b\b- \b\b\\ \b\b| \b\b/ \b\b- \b\b\\ \b\b| \b\b/ \b\b- \b\b\\ \b\b| \b\bdone\n",
            "\n",
            "## Package Plan ##\n",
            "\n",
            "  environment location: /usr/local\n",
            "\n",
            "  added / updated specs:\n",
            "    - pylops\n",
            "\n",
            "\n",
            "The following packages will be downloaded:\n",
            "\n",
            "    package                    |            build\n",
            "    ---------------------------|-----------------\n",
            "    _libgcc_mutex-0.1          |      conda_forge           3 KB  conda-forge\n",
            "    _openmp_mutex-4.5          |            1_gnu          22 KB  conda-forge\n",
            "    fftw-3.3.8                 |nompi_hfc0cae8_1114         5.8 MB  conda-forge\n",
            "    libgcc-ng-9.3.0            |      h2828fa1_18         7.8 MB  conda-forge\n",
            "    libgomp-9.3.0              |      h2828fa1_18         376 KB  conda-forge\n",
            "    libstdcxx-ng-9.3.0         |      h6de172a_18         4.0 MB  conda-forge\n",
            "    openssl-1.1.1i             |       h7f98852_0         2.1 MB  conda-forge\n",
            "    pyfftw-0.12.0              |   py36h3bbbe2f_2         2.1 MB  conda-forge\n",
            "    pylops-1.12.0              |   py36h1d69622_0         206 KB  conda-forge\n",
            "    pywavelets-1.1.1           |   py36h92226af_3         4.4 MB  conda-forge\n",
            "    scikit-fmm-2021.1.21       |   py36h284efc9_0          55 KB  conda-forge\n",
            "    ------------------------------------------------------------\n",
            "                                           Total:        26.9 MB\n",
            "\n",
            "The following NEW packages will be INSTALLED:\n",
            "\n",
            "  _openmp_mutex      conda-forge/linux-64::_openmp_mutex-4.5-1_gnu\n",
            "  fftw               conda-forge/linux-64::fftw-3.3.8-nompi_hfc0cae8_1114\n",
            "  libgomp            conda-forge/linux-64::libgomp-9.3.0-h2828fa1_18\n",
            "  pyfftw             conda-forge/linux-64::pyfftw-0.12.0-py36h3bbbe2f_2\n",
            "  pylops             conda-forge/linux-64::pylops-1.12.0-py36h1d69622_0\n",
            "  pywavelets         conda-forge/linux-64::pywavelets-1.1.1-py36h92226af_3\n",
            "  scikit-fmm         conda-forge/linux-64::scikit-fmm-2021.1.21-py36h284efc9_0\n",
            "\n",
            "The following packages will be UPDATED:\n",
            "\n",
            "  libgcc-ng           pkgs/main::libgcc-ng-9.1.0-hdf63c60_0 --> conda-forge::libgcc-ng-9.3.0-h2828fa1_18\n",
            "  libstdcxx-ng       pkgs/main::libstdcxx-ng-9.1.0-hdf63c6~ --> conda-forge::libstdcxx-ng-9.3.0-h6de172a_18\n",
            "\n",
            "The following packages will be SUPERSEDED by a higher-priority channel:\n",
            "\n",
            "  _libgcc_mutex           pkgs/main::_libgcc_mutex-0.1-main --> conda-forge::_libgcc_mutex-0.1-conda_forge\n",
            "  openssl              pkgs/main::openssl-1.1.1i-h27cfd23_0 --> conda-forge::openssl-1.1.1i-h7f98852_0\n",
            "\n",
            "\n",
            "\n",
            "Downloading and Extracting Packages\n",
            "pywavelets-1.1.1     | 4.4 MB    | : 100% 1.0/1 [00:00<00:00,  1.59it/s]\n",
            "fftw-3.3.8           | 5.8 MB    | : 100% 1.0/1 [00:00<00:00,  1.03it/s]\n",
            "openssl-1.1.1i       | 2.1 MB    | : 100% 1.0/1 [00:00<00:00,  3.20it/s]\n",
            "pyfftw-0.12.0        | 2.1 MB    | : 100% 1.0/1 [00:00<00:00,  1.09it/s]\n",
            "libgomp-9.3.0        | 376 KB    | : 100% 1.0/1 [00:00<00:00, 11.22it/s]\n",
            "scikit-fmm-2021.1.21 | 55 KB     | : 100% 1.0/1 [00:00<00:00,  6.01it/s]                \n",
            "_libgcc_mutex-0.1    | 3 KB      | : 100% 1.0/1 [00:00<00:00, 28.46it/s]\n",
            "_openmp_mutex-4.5    | 22 KB     | : 100% 1.0/1 [00:00<00:00, 26.03it/s]\n",
            "libgcc-ng-9.3.0      | 7.8 MB    | : 100% 1.0/1 [00:01<00:00,  1.10s/it]\n",
            "libstdcxx-ng-9.3.0   | 4.0 MB    | : 100% 1.0/1 [00:00<00:00,  1.63it/s]\n",
            "pylops-1.12.0        | 206 KB    | : 100% 1.0/1 [00:00<00:00,  5.81it/s]                \n",
            "Preparing transaction: - \b\bdone\n",
            "Verifying transaction: | \b\b/ \b\b- \b\b\\ \b\bdone\n",
            "Executing transaction: / \b\bdone\n"
          ],
          "name": "stdout"
        }
      ]
    },
    {
      "cell_type": "code",
      "metadata": {
        "id": "UkJWOpADBqnE"
      },
      "source": [
        "import sys\n",
        "_ = (sys.path.append(\"/usr/local/lib/python3.6/site-packages\"))"
      ],
      "execution_count": 3,
      "outputs": []
    },
    {
      "cell_type": "markdown",
      "metadata": {
        "id": "vA2JX6JGQ5zM"
      },
      "source": [
        "## Example: 1D Deconvolution\n",
        "\n",
        "The first problem we will solve with the aid of PyLops is a simple one-dimensional convolution/deconvolution problem. \n",
        "\n",
        "We start by defining:\n",
        "\n",
        "- a 1D input signal, $f(t)$, constructed as the superposition of three gaussian functions with different time shifts;\n",
        "- a PyLops operator applying convolution ([Convolve1D](https://pylops.readthedocs.io/en/latest/api/generated/pylops.signalprocessing.Convolve1D.html)) with a given impulse response $h(t)$. For simplicity, we select a [Ricker](https://en.wikipedia.org/wiki/Mexican_hat_wavelet) wavelet to be convolved with the 1D input signal. \n",
        "\n",
        "The resulting data, $g(t)$, is a 'blurred' shifted version of the input model mathematically computed by integration over time according to:\n",
        "\n",
        "\\begin{equation}\n",
        "g(t) = \\int_{-\\infty}^{\\infty} h(t - \\tau) f(\\tau) d\\tau\n",
        "\\end{equation}\n",
        "\n",
        "Next, we solve the inverse problem (i.e., **deconvolution**) where we seek for the model vector that would reproduce the observed data when convolved with a specific convolutional kernel."
      ]
    },
    {
      "cell_type": "markdown",
      "metadata": {
        "id": "r3j6sftlQ-1h"
      },
      "source": [
        "Let's start now by importing all useful libraries"
      ]
    },
    {
      "cell_type": "code",
      "metadata": {
        "id": "BURVcjDcB0cV",
        "colab": {
          "base_uri": "https://localhost:8080/"
        },
        "outputId": "67d4732c-5971-4b24-b35e-3a4ac1681917"
      },
      "source": [
        "%matplotlib inline\n",
        "import time\n",
        "import os\n",
        "import numpy as np\n",
        "import cupy as cp\n",
        "import scipy as sp\n",
        "import matplotlib.pyplot as plt\n",
        "import pandas as pd\n",
        "import seaborn as sns\n",
        "\n",
        "from scipy.sparse.linalg import inv, lsqr\n",
        "from scipy.sparse import rand\n",
        "\n",
        "from pylops.utils import dottest\n",
        "from pylops.utils.signalprocessing import convmtx\n",
        "from pylops.utils.wavelets import ricker\n",
        "from pylops.signalprocessing import Convolve1D\n",
        "from pylops.optimization.sparsity import FISTA\n",
        "\n",
        "plt.style.use('seaborn-dark')\n",
        "print('cp.__version__:',  cp.__version__)"
      ],
      "execution_count": 4,
      "outputs": [
        {
          "output_type": "stream",
          "text": [
            "cp.__version__: 8.1.0\n"
          ],
          "name": "stdout"
        }
      ]
    },
    {
      "cell_type": "markdown",
      "metadata": {
        "id": "J-oDMYQ8RGKA"
      },
      "source": [
        "We can now create our model vector and convolution operator and compute the data"
      ]
    },
    {
      "cell_type": "code",
      "metadata": {
        "id": "NLMw3VN-C2RL",
        "colab": {
          "base_uri": "https://localhost:8080/"
        },
        "outputId": "441406f4-9d08-4579-b7d7-edc1ad71088a"
      },
      "source": [
        "# Input parameters\n",
        "t_min, t_max, nt = -4.0, 4.0, 10001 # time axis\n",
        "f_central = 15 # central frequency of wavelet\n",
        "t_delay = 1 # \n",
        "t_delay_wav = np.array([0.0, 0.6, 1.2])[:, np.newaxis] # times of spikes\n",
        "\n",
        "# Time axis\n",
        "t = np.linspace(t_min, t_max, nt)\n",
        "\n",
        "# Model vector\n",
        "sigma = 1 / (np.pi * f_central) ** 2\n",
        "wav = np.exp(-((t - t_delay_wav) ** 2) / sigma)\n",
        "model = wav[0] - 1.5*wav[1] + wav[2]\n",
        "\n",
        "# Impulse response (Ricker wavelet)\n",
        "impulse_response_full = ricker(t[nt//2:], np.sqrt(1 / (np.pi**2 * sigma)))[0]\n",
        "impulse_response = impulse_response_full[np.argmax(impulse_response_full)-100:\n",
        "                                         np.argmax(impulse_response_full)+101]\n",
        "\n",
        "# Convolution operator with sparse matrix (discouraged!)\n",
        "#R = convmtx(impulse_response, nt)\n",
        "#Rop = MatrixMult(bsr_matrix(R[:, np.argmax(impulse_response):-np.argmax(impulse_response)]))\n",
        "\n",
        "# Convolution operator\n",
        "Rop = Convolve1D(nt, impulse_response, \n",
        "                 offset=np.argmax(impulse_response),\n",
        "                 method='fft')\n",
        "dottest(Rop, nt, nt, verb=True)\n",
        "\n",
        "# Data vector\n",
        "data = Rop * model"
      ],
      "execution_count": 5,
      "outputs": [
        {
          "output_type": "stream",
          "text": [
            "Dot test passed, v^T(Opu)=43.110587 - u^T(Op^Tv)=43.110587\n"
          ],
          "name": "stdout"
        }
      ]
    },
    {
      "cell_type": "markdown",
      "metadata": {
        "id": "0z_VYJgHX0wr"
      },
      "source": [
        "We use here one of our sparse solvers [FISTA](https://pylops.readthedocs.io/en/latest/api/generated/pylops.optimization.sparsity.FISTA.html). \n",
        "\n",
        "The choice of the solver is dependant on the problem we wish to solver; here we know that to recover also the very low and high frequencies of our input model which have been removed by the filter we need to provide further prior information to the inversion in the form of a sparsity constraint."
      ]
    },
    {
      "cell_type": "code",
      "metadata": {
        "colab": {
          "base_uri": "https://localhost:8080/",
          "height": 1000
        },
        "id": "wkiHS0ZMXxhD",
        "outputId": "ed3aeed8-e6f5-4143-cfaf-07afd571baeb"
      },
      "source": [
        "# Model reconstruction - Inverse problem\n",
        "model_reconstructed = FISTA(Op=Rop,\n",
        "                            data=data,\n",
        "                            eps=1e-1,\n",
        "                            niter=200, \n",
        "                            show=True)[0]\n",
        "\n",
        "# Plotting input vectors\n",
        "fig, ax = plt.subplots(1, 4, figsize=(16, 3), facecolor='w', edgecolor='k')\n",
        "ax[0].plot(t, impulse_response_full, 'r', lw=1.5)\n",
        "ax[0].set_xlabel('Time - (sec)')\n",
        "ax[0].set_ylabel('Amplitude')\n",
        "ax[0].set_xlim([-0.2, 0.2])\n",
        "ax[0].set_title(\"Operator\")\n",
        "\n",
        "ax[1].plot(t, model, 'k', lw=1.5)\n",
        "ax[1].set_xlabel('Time - (sec)')\n",
        "ax[1].set_xlim([-0.1, 2.5])\n",
        "ax[1].set_title(\"Model\")\n",
        "\n",
        "ax[2].plot(t, data, 'b', lw=1.5)\n",
        "ax[2].set_xlabel('Time - (sec)')\n",
        "ax[2].set_xlim([-0.1, 2.5])\n",
        "ax[2].set_title(\"Data\")\n",
        "\n",
        "ax[3].plot(t, model, 'k', lw=3, label='Target Model')\n",
        "ax[3].plot(t, model_reconstructed, '--g', lw=2, label='Reconstruction')\n",
        "ax[3].set_ylabel('Amplitude')\n",
        "ax[3].set_xlabel('Time - (sec)')\n",
        "ax[3].set_xlim([-0.1, 1.5])\n",
        "ax[3].set_title(\"Model Reconstruction\")\n",
        "ax[3].legend()\n",
        "ax[3].set_xlim([-0.1, 2.5])\n",
        "fig.tight_layout();"
      ],
      "execution_count": 6,
      "outputs": [
        {
          "output_type": "stream",
          "text": [
            "FISTA optimization (soft thresholding)\n",
            "-----------------------------------------------------------\n",
            "The Operator Op has 10001 rows and 10001 cols\n",
            "eps = 1.000000e-01\ttol = 1.000000e-10\tniter = 200\n",
            "alpha = 8.357401e-04\tthresh = 4.178700e-05\n",
            "-----------------------------------------------------------\n",
            "\n",
            "   Itn       x[0]        r2norm     r12norm     xupdate\n",
            "     1   0.00000e+00   4.283e+03   4.293e+03   4.748e+00\n",
            "     2   0.00000e+00   2.279e+03   2.291e+03   1.466e+00\n",
            "     3   0.00000e+00   1.346e+03   1.360e+03   1.117e+00\n",
            "     4   0.00000e+00   8.627e+02   8.785e+02   8.946e-01\n",
            "     5   0.00000e+00   5.894e+02   6.065e+02   7.408e-01\n",
            "     6   0.00000e+00   4.232e+02   4.416e+02   6.290e-01\n",
            "     7  -0.00000e+00   3.161e+02   3.354e+02   5.446e-01\n",
            "     8  -0.00000e+00   2.436e+02   2.637e+02   4.791e-01\n",
            "     9   0.00000e+00   1.928e+02   2.136e+02   4.263e-01\n",
            "    10   0.00000e+00   1.561e+02   1.776e+02   3.826e-01\n",
            "    11  -0.00000e+00   1.287e+02   1.507e+02   3.466e-01\n",
            "    21  -0.00000e+00   3.447e+01   6.000e+01   1.570e-01\n",
            "    31   0.00000e+00   1.325e+01   3.866e+01   1.289e-01\n",
            "    41   0.00000e+00   4.240e+00   3.110e+01   9.419e-02\n",
            "    51  -0.00000e+00   1.714e+00   2.971e+01   6.243e-02\n",
            "    61   0.00000e+00   1.162e+00   2.928e+01   4.177e-02\n",
            "    71   0.00000e+00   9.007e-01   2.831e+01   3.693e-02\n",
            "    81   0.00000e+00   7.563e-01   2.691e+01   3.886e-02\n",
            "    91   0.00000e+00   7.243e-01   2.557e+01   3.935e-02\n",
            "   101   0.00000e+00   7.320e-01   2.409e+01   4.183e-02\n",
            "   111   0.00000e+00   6.913e-01   2.247e+01   4.518e-02\n",
            "   121   0.00000e+00   6.152e-01   2.148e+01   4.360e-02\n",
            "   131   0.00000e+00   4.862e-01   2.035e+01   4.504e-02\n",
            "   141   0.00000e+00   3.380e-01   1.904e+01   4.796e-02\n",
            "   151   0.00000e+00   2.433e-01   1.800e+01   4.761e-02\n",
            "   161   0.00000e+00   1.427e-01   1.735e+01   4.446e-02\n",
            "   171   0.00000e+00   1.205e-01   1.732e+01   3.636e-02\n",
            "   181   0.00000e+00   1.211e-01   1.731e+01   2.929e-02\n",
            "   191   0.00000e+00   2.300e-02   1.726e+01   2.557e-02\n",
            "   192   0.00000e+00   2.414e-02   1.724e+01   2.532e-02\n",
            "   193   0.00000e+00   2.710e-02   1.722e+01   2.509e-02\n",
            "   194   0.00000e+00   3.178e-02   1.720e+01   2.484e-02\n",
            "   195   0.00000e+00   3.799e-02   1.718e+01   2.456e-02\n",
            "   196   0.00000e+00   4.548e-02   1.716e+01   2.417e-02\n",
            "   197   0.00000e+00   5.387e-02   1.714e+01   2.375e-02\n",
            "   198   0.00000e+00   6.271e-02   1.713e+01   2.330e-02\n",
            "   199   0.00000e+00   7.154e-02   1.712e+01   2.282e-02\n",
            "   200   0.00000e+00   7.991e-02   1.711e+01   2.230e-02\n",
            "\n",
            "Iterations = 200        Total time (s) = 2.62\n",
            "---------------------------------------------------------\n",
            "\n"
          ],
          "name": "stdout"
        },
        {
          "output_type": "display_data",
          "data": {
            "image/png": "[encoded data removed]",
            "text/plain": [
              "<Figure size 1152x216 with 4 Axes>"
            ]
          },
          "metadata": {
            "tags": []
          }
        }
      ]
    },
    {
      "cell_type": "markdown",
      "metadata": {
        "id": "6jbmNqBaYs-S"
      },
      "source": [
        "And we are now ready to see how the above problem can also be solved on your GPU by leveraging CuPy.\n",
        "\n",
        "All we need to do is:\n",
        "\n",
        "- ensure the data is transferred to the GPU via [cp.asarray](https://docs.cupy.dev/en/stable/reference/generated/cupy.asarray.html)\n",
        "- create a new Convolve1D operator where the impulse response is also moved to the GPU. By doing so, PyLops knows automatically that we want to solve our problem on the GPU!"
      ]
    },
    {
      "cell_type": "code",
      "metadata": {
        "colab": {
          "base_uri": "https://localhost:8080/",
          "height": 1000
        },
        "id": "rBHZoCj0NqtE",
        "outputId": "39fba186-96eb-4ccd-a94a-d60a3cb4e3fc"
      },
      "source": [
        "# Convert to cupy\n",
        "Rop_cp = Convolve1D(nt, cp.asarray(impulse_response), \n",
        "                    offset=np.argmax(impulse_response),\n",
        "                    method='fft')\n",
        "data_cp = cp.asarray(data)\n",
        "dottest(Rop, nt, nt, backend='cupy', verb=True)\n",
        "\n",
        "# Model reconstruction - Inverse problem\n",
        "model_reconstructed_cp = FISTA(Op=Rop_cp,\n",
        "                               data=data_cp,\n",
        "                               eps=1e-1,\n",
        "                               niter=200, \n",
        "                               show=True)[0]\n",
        "\n",
        "# Plotting input vectors\n",
        "fig, ax = plt.subplots(1, 4, figsize=(16, 3), facecolor='w', edgecolor='k')\n",
        "ax[0].plot(t, impulse_response_full, 'r', lw=1.5)\n",
        "ax[0].set_xlabel('Time - (sec)')\n",
        "ax[0].set_ylabel('Amplitude')\n",
        "ax[0].set_xlim([-0.2, 0.2])\n",
        "ax[0].set_title(\"Operator\")\n",
        "\n",
        "ax[1].plot(t, model, 'k', lw=1.5)\n",
        "ax[1].set_xlabel('Time - (sec)')\n",
        "ax[1].set_xlim([-0.1, 2.5])\n",
        "ax[1].set_title(\"Model\")\n",
        "\n",
        "ax[2].plot(t, data, 'b', lw=1.5)\n",
        "ax[2].set_xlabel('Time - (sec)')\n",
        "ax[2].set_xlim([-0.1, 2.5])\n",
        "ax[2].set_title(\"Data\")\n",
        "\n",
        "ax[3].plot(t, model, 'k', lw=3, label='Target Model')\n",
        "ax[3].plot(t, cp.asnumpy(model_reconstructed_cp), '--g', lw=2, label='Reconstruction')\n",
        "ax[3].set_ylabel('Amplitude')\n",
        "ax[3].set_xlabel('Time - (sec)')\n",
        "ax[3].set_xlim([-0.1, 1.5])\n",
        "ax[3].set_title(\"Model Reconstruction\")\n",
        "ax[3].legend()\n",
        "ax[3].set_xlim([-0.1, 2.5])\n",
        "fig.tight_layout();"
      ],
      "execution_count": 9,
      "outputs": [
        {
          "output_type": "stream",
          "text": [
            "Dot test passed, v^T(Opu)=-136.846830 - u^T(Op^Tv)=-136.846830\n",
            "FISTA optimization (soft thresholding)\n",
            "-----------------------------------------------------------\n",
            "The Operator Op has 10001 rows and 10001 cols\n",
            "eps = 1.000000e-01\ttol = 1.000000e-10\tniter = 200\n",
            "alpha = 8.599865e-04\tthresh = 4.299932e-05\n",
            "-----------------------------------------------------------\n",
            "\n",
            "   Itn       x[0]        r2norm     r12norm     xupdate\n",
            "     1   0.00000e+00   4.122e+03   4.132e+03   4.886e+00\n",
            "     2  -0.00000e+00   2.198e+03   2.211e+03   1.456e+00\n",
            "     3  -0.00000e+00   1.299e+03   1.314e+03   1.113e+00\n",
            "     4  -0.00000e+00   8.328e+02   8.487e+02   8.914e-01\n",
            "     5   0.00000e+00   5.689e+02   5.862e+02   7.383e-01\n",
            "     6   0.00000e+00   4.085e+02   4.270e+02   6.269e-01\n",
            "     7   0.00000e+00   3.051e+02   3.245e+02   5.428e-01\n",
            "     8  -0.00000e+00   2.351e+02   2.553e+02   4.774e-01\n",
            "     9   0.00000e+00   1.861e+02   2.071e+02   4.247e-01\n",
            "    10  -0.00000e+00   1.508e+02   1.724e+02   3.811e-01\n",
            "    11  -0.00000e+00   1.242e+02   1.463e+02   3.454e-01\n",
            "    21  -0.00000e+00   3.370e+01   5.926e+01   1.554e-01\n",
            "    31  -0.00000e+00   1.249e+01   3.795e+01   1.296e-01\n",
            "    41   0.00000e+00   3.964e+00   3.091e+01   9.324e-02\n",
            "    51   0.00000e+00   1.636e+00   2.967e+01   6.113e-02\n",
            "    61  -0.00000e+00   1.133e+00   2.921e+01   4.127e-02\n",
            "    71  -0.00000e+00   8.786e-01   2.817e+01   3.749e-02\n",
            "    81  -0.00000e+00   7.483e-01   2.672e+01   3.960e-02\n",
            "    91  -0.00000e+00   7.228e-01   2.538e+01   4.015e-02\n",
            "   101  -0.00000e+00   7.294e-01   2.385e+01   4.294e-02\n",
            "   111   0.00000e+00   6.807e-01   2.229e+01   4.541e-02\n",
            "   121  -0.00000e+00   5.965e-01   2.130e+01   4.425e-02\n",
            "   131  -0.00000e+00   4.574e-01   2.010e+01   4.626e-02\n",
            "   141  -0.00000e+00   3.145e-01   1.876e+01   4.902e-02\n",
            "   151  -0.00000e+00   2.249e-01   1.779e+01   4.813e-02\n",
            "   161   0.00000e+00   1.151e-01   1.730e+01   4.346e-02\n",
            "   171  -0.00000e+00   1.396e-01   1.730e+01   3.490e-02\n",
            "   181  -0.00000e+00   8.174e-02   1.731e+01   2.848e-02\n",
            "   191   0.00000e+00   2.918e-02   1.720e+01   2.534e-02\n",
            "   192   0.00000e+00   3.510e-02   1.718e+01   2.505e-02\n",
            "   193  -0.00000e+00   4.236e-02   1.716e+01   2.468e-02\n",
            "   194  -0.00000e+00   5.060e-02   1.714e+01   2.426e-02\n",
            "   195   0.00000e+00   5.944e-02   1.713e+01   2.380e-02\n",
            "   196  -0.00000e+00   6.837e-02   1.712e+01   2.332e-02\n",
            "   197   0.00000e+00   7.698e-02   1.711e+01   2.275e-02\n",
            "   198  -0.00000e+00   8.500e-02   1.710e+01   2.220e-02\n",
            "   199   0.00000e+00   9.236e-02   1.710e+01   2.163e-02\n",
            "   200   0.00000e+00   9.905e-02   1.709e+01   2.102e-02\n",
            "\n",
            "Iterations = 200        Total time (s) = 0.53\n",
            "---------------------------------------------------------\n",
            "\n"
          ],
          "name": "stdout"
        },
        {
          "output_type": "display_data",
          "data": {
            "image/png": "[encoded data removed]",
            "text/plain": [
              "<Figure size 1152x216 with 4 Axes>"
            ]
          },
          "metadata": {
            "tags": []
          }
        }
      ]
    },
    {
      "cell_type": "markdown",
      "metadata": {
        "id": "Mf2Xhpj7ZHta"
      },
      "source": [
        "Same results, but compare the timings :D\n",
        "\n",
        "Let's finally try to do a more extensive comparision by considering model vectors of variable lenght"
      ]
    },
    {
      "cell_type": "code",
      "metadata": {
        "colab": {
          "base_uri": "https://localhost:8080/",
          "height": 1000
        },
        "id": "n69NzY1iOrUF",
        "outputId": "82c949a7-8d56-4a74-d00d-5032d5e68962"
      },
      "source": [
        "os.chdir('pylops_swungrendezvous2021')\n",
        "from deconv import deconv\n",
        "\n",
        "# Compare timings \n",
        "nts = np.arange(100, 5100, 100) + 1\n",
        "\n",
        "telapsed = np.vstack([np.array(deconv(nt)) for nt in nts])\n",
        "plt.figure(figsize=(10, 2))\n",
        "plt.plot(nts, telapsed[:, 0], 'k', lw=2, label='Numpy')\n",
        "plt.plot(nts, telapsed[:, 1], 'r', lw=2, label='Cupy')\n",
        "plt.xlabel('nt')\n",
        "plt.ylabel('t[s]')\n",
        "plt.title('Elapsed time for Deconvolution')\n",
        "plt.legend()"
      ],
      "execution_count": 10,
      "outputs": [
        {
          "output_type": "stream",
          "text": [
            "Deconvolution with nt=101....\n",
            "Deconvolution with nt=201....\n",
            "Deconvolution with nt=301....\n",
            "Deconvolution with nt=401....\n",
            "Deconvolution with nt=501....\n",
            "Deconvolution with nt=601....\n",
            "Deconvolution with nt=701....\n",
            "Deconvolution with nt=801....\n",
            "Deconvolution with nt=901....\n",
            "Deconvolution with nt=1001....\n",
            "Deconvolution with nt=1101....\n",
            "Deconvolution with nt=1201....\n",
            "Deconvolution with nt=1301....\n",
            "Deconvolution with nt=1401....\n",
            "Deconvolution with nt=1501....\n",
            "Deconvolution with nt=1601....\n",
            "Deconvolution with nt=1701....\n",
            "Deconvolution with nt=1801....\n",
            "Deconvolution with nt=1901....\n",
            "Deconvolution with nt=2001....\n",
            "Deconvolution with nt=2101....\n",
            "Deconvolution with nt=2201....\n",
            "Deconvolution with nt=2301....\n",
            "Deconvolution with nt=2401....\n",
            "Deconvolution with nt=2501....\n",
            "Deconvolution with nt=2601....\n",
            "Deconvolution with nt=2701....\n",
            "Deconvolution with nt=2801....\n",
            "Deconvolution with nt=2901....\n",
            "Deconvolution with nt=3001....\n",
            "Deconvolution with nt=3101....\n",
            "Deconvolution with nt=3201....\n",
            "Deconvolution with nt=3301....\n",
            "Deconvolution with nt=3401....\n",
            "Deconvolution with nt=3501....\n",
            "Deconvolution with nt=3601....\n",
            "Deconvolution with nt=3701....\n",
            "Deconvolution with nt=3801....\n",
            "Deconvolution with nt=3901....\n",
            "Deconvolution with nt=4001....\n",
            "Deconvolution with nt=4101....\n",
            "Deconvolution with nt=4201....\n",
            "Deconvolution with nt=4301....\n",
            "Deconvolution with nt=4401....\n",
            "Deconvolution with nt=4501....\n",
            "Deconvolution with nt=4601....\n",
            "Deconvolution with nt=4701....\n",
            "Deconvolution with nt=4801....\n",
            "Deconvolution with nt=4901....\n",
            "Deconvolution with nt=5001....\n"
          ],
          "name": "stdout"
        },
        {
          "output_type": "execute_result",
          "data": {
            "text/plain": [
              "<matplotlib.legend.Legend at 0x7f1451dbe240>"
            ]
          },
          "metadata": {
            "tags": []
          },
          "execution_count": 10
        },
        {
          "output_type": "display_data",
          "data": {
            "image/png": "[encoded data removed]",
            "text/plain": [
              "<Figure size 720x144 with 1 Axes>"
            ]
          },
          "metadata": {
            "tags": []
          }
        }
      ]
    }
  ]
}